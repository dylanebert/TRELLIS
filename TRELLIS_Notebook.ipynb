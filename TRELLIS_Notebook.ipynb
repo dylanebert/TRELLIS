{
  "cells": [
    {
      "cell_type": "raw",
      "metadata": {
        "vscode": {
          "languageId": "raw"
        }
      },
      "source": [
        "# TRELLIS: Image to 3D Asset Generation\n",
        "\n",
        "This notebook adapts the TRELLIS setup and Gradio app for notebook environment.\n",
        "It can be used locally or adapted for Google Colab.\n",
        "\n",
        "## Requirements\n",
        "- NVIDIA GPU with at least 16GB VRAM\n",
        "- CUDA Toolkit (11.8 or 12.x)\n",
        "- Python 3.8+\n"
      ]
    },
    {
      "cell_type": "raw",
      "metadata": {
        "vscode": {
          "languageId": "raw"
        }
      },
      "source": [
        "## 1. Environment Setup\n",
        "\n",
        "### Install UV Package Manager (if not already installed)\n"
      ]
    },
    {
      "cell_type": "code",
      "execution_count": 1,
      "metadata": {},
      "outputs": [
        {
          "name": "stdout",
          "output_type": "stream",
          "text": [
            "UV is already installed\n",
            "UV version: uv 0.7.4\n"
          ]
        }
      ],
      "source": [
        "import subprocess\n",
        "import sys\n",
        "import os\n",
        "import shutil\n",
        "from pathlib import Path\n",
        "\n",
        "# Check if UV is installed\n",
        "def check_uv_installed():\n",
        "    try:\n",
        "        result = subprocess.run(['uv', '--version'], capture_output=True, text=True)\n",
        "        return result.returncode == 0\n",
        "    except FileNotFoundError:\n",
        "        return False\n",
        "\n",
        "# Install UV if not present\n",
        "if not check_uv_installed():\n",
        "    print(\"Installing UV package manager...\")\n",
        "    subprocess.run(['curl', '-LsSf', 'https://astral.sh/uv/install.sh', '|', 'sh'], shell=True)\n",
        "    # Add UV to PATH for current session\n",
        "    home_dir = Path.home()\n",
        "    uv_path = home_dir / '.local' / 'bin'\n",
        "    if str(uv_path) not in os.environ['PATH']:\n",
        "        os.environ['PATH'] = f\"{uv_path}:{os.environ['PATH']}\"\n",
        "else:\n",
        "    print(\"UV is already installed\")\n",
        "    \n",
        "# Verify UV installation\n",
        "try:\n",
        "    result = subprocess.run(['uv', '--version'], capture_output=True, text=True)\n",
        "    print(f\"UV version: {result.stdout.strip()}\")\n",
        "except Exception as e:\n",
        "    print(f\"Error checking UV: {e}\")\n",
        "    print(\"Please install UV manually: curl -LsSf https://astral.sh/uv/install.sh | sh\")\n"
      ]
    },
    {
      "cell_type": "raw",
      "metadata": {
        "vscode": {
          "languageId": "raw"
        }
      },
      "source": [
        "### Clone TRELLIS Repository\n"
      ]
    },
    {
      "cell_type": "code",
      "execution_count": 2,
      "metadata": {},
      "outputs": [
        {
          "name": "stdout",
          "output_type": "stream",
          "text": [
            "Cloning TRELLIS repository...\n"
          ]
        },
        {
          "name": "stderr",
          "output_type": "stream",
          "text": [
            "Cloning into 'TRELLIS'...\n",
            "Submodule 'trellis/representations/mesh/flexicubes' (https://github.com/MaxtirError/FlexiCubes.git) registered for path 'trellis/representations/mesh/flexicubes'\n",
            "Cloning into '/root/TRELLIS/TRELLIS/trellis/representations/mesh/flexicubes'...\n"
          ]
        },
        {
          "name": "stdout",
          "output_type": "stream",
          "text": [
            "Submodule path 'trellis/representations/mesh/flexicubes': checked out '815e075a2a400d06c48d94c347674344ed6ae5c5'\n",
            "Working directory: /root/TRELLIS/TRELLIS\n"
          ]
        }
      ],
      "source": [
        "# Clone TRELLIS repository if not already present\n",
        "if not os.path.exists('TRELLIS'):\n",
        "    print(\"Cloning TRELLIS repository...\")\n",
        "    subprocess.run(['git', 'clone', '--recurse-submodules', 'https://github.com/microsoft/TRELLIS.git'])\n",
        "    os.chdir('TRELLIS')\n",
        "else:\n",
        "    print(\"TRELLIS repository already exists\")\n",
        "    os.chdir('TRELLIS')\n",
        "\n",
        "print(f\"Working directory: {os.getcwd()}\")\n"
      ]
    },
    {
      "cell_type": "raw",
      "metadata": {
        "vscode": {
          "languageId": "raw"
        }
      },
      "source": [
        "## 2. Install Dependencies\n",
        "\n",
        "### Install PyTorch and Basic Dependencies\n"
      ]
    },
    {
      "cell_type": "code",
      "execution_count": null,
      "metadata": {},
      "outputs": [],
      "source": [
        "# Install PyTorch with CUDA support\n",
        "print(\"Installing PyTorch with CUDA support...\")\n",
        "subprocess.run(['uv', 'pip', 'install', 'torch==2.4.0', 'torchvision==0.19.0', \n",
        "               '--index-url', 'https://download.pytorch.org/whl/cu118'])\n",
        "\n",
        "# Install basic dependencies\n",
        "print(\"Installing basic dependencies...\")\n",
        "basic_deps = [\n",
        "    'pillow', 'imageio', 'imageio-ffmpeg', 'tqdm', 'easydict', \n",
        "    'opencv-python-headless', 'scipy', 'ninja', 'rembg', 'onnxruntime',\n",
        "    'trimesh', 'open3d', 'xatlas', 'pyvista', 'pymeshfix', 'igraph', 'transformers'\n",
        "]\n",
        "\n",
        "cmd = ['uv', 'pip', 'install'] + basic_deps\n",
        "result = subprocess.run(cmd, capture_output=True, text=True)\n",
        "if result.returncode != 0:\n",
        "    print(f\"Error installing basic dependencies: {result.stderr}\")\n",
        "else:\n",
        "    print(\"Basic dependencies installed successfully\")\n",
        "\n",
        "# Install utils3d\n",
        "print(\"Installing utils3d...\")\n",
        "cmd = ['uv', 'pip', 'install', 'git+https://github.com/EasternJournalist/utils3d.git@9a4eb15e4021b67b12c460c7057d642626897ec8']\n",
        "result = subprocess.run(cmd, capture_output=True, text=True)\n",
        "if result.returncode != 0:\n",
        "    print(f\"Error installing utils3d: {result.stderr}\")\n",
        "else:\n",
        "    print(\"utils3d installed successfully\")\n",
        "\n",
        "# Install Gradio for the web interface\n",
        "print(\"Installing Gradio dependencies...\")\n",
        "subprocess.run(['uv', 'pip', 'install', 'pydantic<2.10,>=2.0'])\n",
        "subprocess.run(['uv', 'pip', 'install', 'gradio==4.44.1', 'gradio_litmodel3d==0.0.1'])\n",
        "\n",
        "print(\"✅ Dependencies installation completed!\")\n"
      ]
    },
    {
      "cell_type": "raw",
      "metadata": {
        "vscode": {
          "languageId": "raw"
        }
      },
      "source": [
        "## 3. Setup Environment and Load TRELLIS Pipeline\n"
      ]
    },
    {
      "cell_type": "code",
      "execution_count": null,
      "metadata": {},
      "outputs": [],
      "source": [
        "# Set environment variables for optimal performance\n",
        "os.environ['SPCONV_ALGO'] = 'native'  # Use native algorithm for single runs\n",
        "os.environ['ATTN_BACKEND'] = 'xformers'  # Use xformers for attention\n",
        "\n",
        "# Import required modules\n",
        "import torch\n",
        "import numpy as np\n",
        "import imageio\n",
        "from PIL import Image\n",
        "from trellis.pipelines import TrellisImageTo3DPipeline\n",
        "from trellis.utils import render_utils, postprocessing_utils\n",
        "\n",
        "print(\"Environment variables set:\")\n",
        "print(f\"SPCONV_ALGO: {os.environ.get('SPCONV_ALGO')}\")\n",
        "print(f\"ATTN_BACKEND: {os.environ.get('ATTN_BACKEND')}\")\n",
        "\n",
        "# Load the pipeline\n",
        "print(\"Loading TRELLIS pipeline... (This may take a few minutes)\")\n",
        "pipeline = TrellisImageTo3DPipeline.from_pretrained(\"microsoft/TRELLIS-image-large\")\n",
        "pipeline.cuda()\n",
        "print(\"✅ Pipeline loaded successfully!\")\n",
        "\n",
        "# Check GPU memory usage\n",
        "if torch.cuda.is_available():\n",
        "    memory_allocated = torch.cuda.memory_allocated() / 1024**3\n",
        "    memory_reserved = torch.cuda.memory_reserved() / 1024**3\n",
        "    print(f\"GPU Memory - Allocated: {memory_allocated:.2f}GB, Reserved: {memory_reserved:.2f}GB\")\n"
      ]
    },
    {
      "cell_type": "raw",
      "metadata": {
        "vscode": {
          "languageId": "raw"
        }
      },
      "source": [
        "## 4. Gradio Web Interface\n"
      ]
    },
    {
      "cell_type": "code",
      "execution_count": null,
      "metadata": {},
      "outputs": [],
      "source": [
        "import gradio as gr\n",
        "from gradio_litmodel3d import LitModel3D\n",
        "import tempfile\n",
        "from typing import Tuple, List\n",
        "from easydict import EasyDict as edict\n",
        "from trellis.representations import Gaussian, MeshExtractResult\n",
        "\n",
        "MAX_SEED = np.iinfo(np.int32).max\n",
        "\n",
        "def preprocess_image(image: Image.Image) -> Image.Image:\n",
        "    \"\"\"Preprocess the input image.\"\"\"\n",
        "    return pipeline.preprocess_image(image)\n",
        "\n",
        "def pack_state(gs: Gaussian, mesh: MeshExtractResult) -> dict:\n",
        "    return {\n",
        "        'gaussian': {\n",
        "            **gs.init_params,\n",
        "            '_xyz': gs._xyz.cpu().numpy(),\n",
        "            '_features_dc': gs._features_dc.cpu().numpy(),\n",
        "            '_scaling': gs._scaling.cpu().numpy(),\n",
        "            '_rotation': gs._rotation.cpu().numpy(),\n",
        "            '_opacity': gs._opacity.cpu().numpy(),\n",
        "        },\n",
        "        'mesh': {\n",
        "            'vertices': mesh.vertices.cpu().numpy(),\n",
        "            'faces': mesh.faces.cpu().numpy(),\n",
        "        },\n",
        "    }\n",
        "\n",
        "def unpack_state(state: dict) -> Tuple[Gaussian, edict]:\n",
        "    gs = Gaussian(\n",
        "        aabb=state['gaussian']['aabb'],\n",
        "        sh_degree=state['gaussian']['sh_degree'],\n",
        "        mininum_kernel_size=state['gaussian']['mininum_kernel_size'],\n",
        "        scaling_bias=state['gaussian']['scaling_bias'],\n",
        "        opacity_bias=state['gaussian']['opacity_bias'],\n",
        "        scaling_activation=state['gaussian']['scaling_activation'],\n",
        "    )\n",
        "    gs._xyz = torch.tensor(state['gaussian']['_xyz'], device='cuda')\n",
        "    gs._features_dc = torch.tensor(state['gaussian']['_features_dc'], device='cuda')\n",
        "    gs._scaling = torch.tensor(state['gaussian']['_scaling'], device='cuda')\n",
        "    gs._rotation = torch.tensor(state['gaussian']['_rotation'], device='cuda')\n",
        "    gs._opacity = torch.tensor(state['gaussian']['_opacity'], device='cuda')\n",
        "    \n",
        "    mesh = edict(\n",
        "        vertices=torch.tensor(state['mesh']['vertices'], device='cuda'),\n",
        "        faces=torch.tensor(state['mesh']['faces'], device='cuda'),\n",
        "    )\n",
        "    \n",
        "    return gs, mesh\n",
        "\n",
        "def get_seed(randomize_seed: bool, seed: int) -> int:\n",
        "    \"\"\"Get the random seed.\"\"\"\n",
        "    return np.random.randint(0, MAX_SEED) if randomize_seed else seed\n",
        "\n",
        "def image_to_3d(\n",
        "    image: Image.Image,\n",
        "    seed: int,\n",
        "    ss_guidance_strength: float,\n",
        "    ss_sampling_steps: int,\n",
        "    slat_guidance_strength: float,\n",
        "    slat_sampling_steps: int,\n",
        ") -> Tuple[dict, str]:\n",
        "    \"\"\"Convert an image to a 3D model.\"\"\"\n",
        "    \n",
        "    outputs = pipeline.run(\n",
        "        image,\n",
        "        seed=seed,\n",
        "        formats=[\"gaussian\", \"mesh\"],\n",
        "        preprocess_image=False,\n",
        "        sparse_structure_sampler_params={\n",
        "            \"steps\": ss_sampling_steps,\n",
        "            \"cfg_strength\": ss_guidance_strength,\n",
        "        },\n",
        "        slat_sampler_params={\n",
        "            \"steps\": slat_sampling_steps,\n",
        "            \"cfg_strength\": slat_guidance_strength,\n",
        "        },\n",
        "    )\n",
        "    \n",
        "    # Render video\n",
        "    video = render_utils.render_video(outputs['gaussian'][0], num_frames=120)['color']\n",
        "    video_geo = render_utils.render_video(outputs['mesh'][0], num_frames=120)['normal']\n",
        "    video = [np.concatenate([video[i], video_geo[i]], axis=1) for i in range(len(video))]\n",
        "    \n",
        "    # Save video to temporary file\n",
        "    with tempfile.NamedTemporaryFile(suffix='.mp4', delete=False) as tmp_file:\n",
        "        video_path = tmp_file.name\n",
        "        imageio.mimsave(video_path, video, fps=15)\n",
        "    \n",
        "    state = pack_state(outputs['gaussian'][0], outputs['mesh'][0])\n",
        "    torch.cuda.empty_cache()\n",
        "    \n",
        "    return state, video_path\n",
        "\n",
        "def extract_glb(\n",
        "    state: dict,\n",
        "    mesh_simplify: float,\n",
        "    texture_size: int,\n",
        ") -> Tuple[str, str]:\n",
        "    \"\"\"Extract a GLB file from the 3D model.\"\"\"\n",
        "    gs, mesh = unpack_state(state)\n",
        "    glb = postprocessing_utils.to_glb(gs, mesh, simplify=mesh_simplify, texture_size=texture_size, verbose=False)\n",
        "    \n",
        "    with tempfile.NamedTemporaryFile(suffix='.glb', delete=False) as tmp_file:\n",
        "        glb_path = tmp_file.name\n",
        "        glb.export(glb_path)\n",
        "    \n",
        "    torch.cuda.empty_cache()\n",
        "    return glb_path, glb_path\n",
        "\n",
        "def extract_gaussian(state: dict) -> Tuple[str, str]:\n",
        "    \"\"\"Extract a Gaussian file from the 3D model.\"\"\"\n",
        "    gs, _ = unpack_state(state)\n",
        "    \n",
        "    with tempfile.NamedTemporaryFile(suffix='.ply', delete=False) as tmp_file:\n",
        "        gaussian_path = tmp_file.name\n",
        "        gs.save_ply(gaussian_path)\n",
        "    \n",
        "    torch.cuda.empty_cache()\n",
        "    return gaussian_path, gaussian_path\n",
        "\n",
        "print(\"✅ Gradio interface functions defined successfully!\")\n"
      ]
    },
    {
      "cell_type": "code",
      "execution_count": null,
      "metadata": {},
      "outputs": [],
      "source": [
        "# Create Gradio interface\n",
        "with gr.Blocks(title=\"TRELLIS: Image to 3D Asset\") as demo:\n",
        "    gr.Markdown(\"\"\"\n",
        "    ## Image to 3D Asset with [TRELLIS](https://trellis3d.github.io/)\n",
        "    * Upload an image and click \"Generate\" to create a 3D asset.\n",
        "    * If you find the generated 3D asset satisfactory, click \"Extract GLB\" to download it.\n",
        "    \"\"\")\n",
        "    \n",
        "    with gr.Row():\n",
        "        with gr.Column():\n",
        "            image_prompt = gr.Image(label=\"Image Prompt\", format=\"png\", image_mode=\"RGBA\", type=\"pil\", height=300)\n",
        "            \n",
        "            with gr.Accordion(label=\"Generation Settings\", open=False):\n",
        "                seed = gr.Slider(0, MAX_SEED, label=\"Seed\", value=0, step=1)\n",
        "                randomize_seed = gr.Checkbox(label=\"Randomize Seed\", value=True)\n",
        "                gr.Markdown(\"Stage 1: Sparse Structure Generation\")\n",
        "                with gr.Row():\n",
        "                    ss_guidance_strength = gr.Slider(0.0, 10.0, label=\"Guidance Strength\", value=7.5, step=0.1)\n",
        "                    ss_sampling_steps = gr.Slider(1, 50, label=\"Sampling Steps\", value=12, step=1)\n",
        "                gr.Markdown(\"Stage 2: Structured Latent Generation\")\n",
        "                with gr.Row():\n",
        "                    slat_guidance_strength = gr.Slider(0.0, 10.0, label=\"Guidance Strength\", value=3.0, step=0.1)\n",
        "                    slat_sampling_steps = gr.Slider(1, 50, label=\"Sampling Steps\", value=12, step=1)\n",
        "\n",
        "            generate_btn = gr.Button(\"Generate\", variant=\"primary\")\n",
        "            \n",
        "            with gr.Accordion(label=\"GLB Extraction Settings\", open=False):\n",
        "                mesh_simplify = gr.Slider(0.9, 0.98, label=\"Simplify\", value=0.95, step=0.01)\n",
        "                texture_size = gr.Slider(512, 2048, label=\"Texture Size\", value=1024, step=512)\n",
        "            \n",
        "            with gr.Row():\n",
        "                extract_glb_btn = gr.Button(\"Extract GLB\", interactive=False)\n",
        "                extract_gs_btn = gr.Button(\"Extract Gaussian\", interactive=False)\n",
        "\n",
        "        with gr.Column():\n",
        "            video_output = gr.Video(label=\"Generated 3D Asset\", autoplay=True, loop=True, height=300)\n",
        "            model_output = LitModel3D(label=\"Extracted GLB/Gaussian\", exposure=10.0, height=300)\n",
        "            \n",
        "            with gr.Row():\n",
        "                download_glb = gr.DownloadButton(label=\"Download GLB\", interactive=False)\n",
        "                download_gs = gr.DownloadButton(label=\"Download Gaussian\", interactive=False)\n",
        "    \n",
        "    # State management\n",
        "    output_buf = gr.State()\n",
        "\n",
        "    # Event handlers\n",
        "    image_prompt.upload(\n",
        "        preprocess_image,\n",
        "        inputs=[image_prompt],\n",
        "        outputs=[image_prompt],\n",
        "    )\n",
        "\n",
        "    generate_btn.click(\n",
        "        get_seed,\n",
        "        inputs=[randomize_seed, seed],\n",
        "        outputs=[seed],\n",
        "    ).then(\n",
        "        image_to_3d,\n",
        "        inputs=[image_prompt, seed, ss_guidance_strength, ss_sampling_steps, slat_guidance_strength, slat_sampling_steps],\n",
        "        outputs=[output_buf, video_output],\n",
        "    ).then(\n",
        "        lambda: tuple([gr.Button(interactive=True), gr.Button(interactive=True)]),\n",
        "        outputs=[extract_glb_btn, extract_gs_btn],\n",
        "    )\n",
        "\n",
        "    extract_glb_btn.click(\n",
        "        extract_glb,\n",
        "        inputs=[output_buf, mesh_simplify, texture_size],\n",
        "        outputs=[model_output, download_glb],\n",
        "    ).then(\n",
        "        lambda: gr.Button(interactive=True),\n",
        "        outputs=[download_glb],\n",
        "    )\n",
        "    \n",
        "    extract_gs_btn.click(\n",
        "        extract_gaussian,\n",
        "        inputs=[output_buf],\n",
        "        outputs=[model_output, download_gs],\n",
        "    ).then(\n",
        "        lambda: gr.Button(interactive=True),\n",
        "        outputs=[download_gs],\n",
        "    )\n",
        "\n",
        "print(\"✅ Gradio interface created successfully!\")\n"
      ]
    },
    {
      "cell_type": "raw",
      "metadata": {
        "vscode": {
          "languageId": "raw"
        }
      },
      "source": [
        "## 5. Launch the Interface\n"
      ]
    },
    {
      "cell_type": "code",
      "execution_count": null,
      "metadata": {},
      "outputs": [],
      "source": [
        "# Launch the Gradio interface\n",
        "print(\"🚀 Launching Gradio interface...\")\n",
        "demo.launch(\n",
        "    share=True,  # Creates a public link that can be shared\n",
        "    server_port=7860,\n",
        "    show_error=True,\n",
        "    debug=True\n",
        ")\n"
      ]
    },
    {
      "cell_type": "raw",
      "metadata": {
        "vscode": {
          "languageId": "raw"
        }
      },
      "source": [
        "## 6. Simple Example (Alternative to Gradio)\n",
        "\n",
        "If you prefer to run TRELLIS programmatically instead of using the web interface:\n"
      ]
    },
    {
      "cell_type": "code",
      "execution_count": null,
      "metadata": {},
      "outputs": [],
      "source": [
        "# Simple example usage without Gradio interface\n",
        "def simple_example():\n",
        "    # Create a simple test image (you can replace this with your own image)\n",
        "    try:\n",
        "        # Try to load example image if available\n",
        "        image = Image.open(\"assets/example_image/T.png\")\n",
        "        print(\"Using example image\")\n",
        "    except:\n",
        "        # Create a simple colored square as fallback\n",
        "        image = Image.new('RGBA', (512, 512), (255, 100, 100, 255))\n",
        "        print(\"Using fallback test image (red square)\")\n",
        "    \n",
        "    # Preprocess the image\n",
        "    processed_image = pipeline.preprocess_image(image)\n",
        "    \n",
        "    # Run the pipeline\n",
        "    print(\"🎨 Generating 3D asset... (This may take several minutes)\")\n",
        "    outputs = pipeline.run(\n",
        "        processed_image,\n",
        "        seed=42,\n",
        "        formats=[\"gaussian\", \"mesh\"],\n",
        "        sparse_structure_sampler_params={\n",
        "            \"steps\": 12,\n",
        "            \"cfg_strength\": 7.5,\n",
        "        },\n",
        "        slat_sampler_params={\n",
        "            \"steps\": 12,\n",
        "            \"cfg_strength\": 3.0,\n",
        "        },\n",
        "    )\n",
        "    \n",
        "    # Render videos\n",
        "    print(\"🎬 Rendering videos...\")\n",
        "    video_gs = render_utils.render_video(outputs['gaussian'][0])['color']\n",
        "    video_mesh = render_utils.render_video(outputs['mesh'][0])['normal']\n",
        "    \n",
        "    # Save outputs\n",
        "    imageio.mimsave(\"sample_gs.mp4\", video_gs, fps=30)\n",
        "    imageio.mimsave(\"sample_mesh.mp4\", video_mesh, fps=30)\n",
        "    \n",
        "    # Extract GLB\n",
        "    print(\"📦 Extracting GLB...\")\n",
        "    glb = postprocessing_utils.to_glb(\n",
        "        outputs['gaussian'][0],\n",
        "        outputs['mesh'][0],\n",
        "        simplify=0.95,\n",
        "        texture_size=1024,\n",
        "    )\n",
        "    glb.export(\"sample.glb\")\n",
        "    \n",
        "    # Save Gaussian PLY\n",
        "    outputs['gaussian'][0].save_ply(\"sample.ply\")\n",
        "    \n",
        "    print(\"✅ Generation complete!\")\n",
        "    print(\"📁 Files generated:\")\n",
        "    print(\"  - sample_gs.mp4: Gaussian video\")\n",
        "    print(\"  - sample_mesh.mp4: Mesh video\") \n",
        "    print(\"  - sample.glb: 3D model file\")\n",
        "    print(\"  - sample.ply: Gaussian point cloud\")\n",
        "    \n",
        "    # Clean up GPU memory\n",
        "    torch.cuda.empty_cache()\n",
        "\n",
        "# Uncomment the line below to run the simple example\n",
        "# simple_example()\n"
      ]
    },
    {
      "cell_type": "raw",
      "metadata": {
        "vscode": {
          "languageId": "raw"
        }
      },
      "source": [
        "## 7. Google Colab Adaptation\n",
        "\n",
        "To run this notebook on Google Colab, make these modifications:\n",
        "\n",
        "### 1. **GPU Runtime**: \n",
        "Select a GPU runtime with at least 16GB memory:\n",
        "- **Recommended**: A100 (40GB) for best performance\n",
        "- **Minimum**: T4 (16GB) - may be slower\n",
        "\n",
        "### 2. **Colab-specific modifications**:\n",
        "\n",
        "Replace the UV installation with pip commands:\n"
      ]
    },
    {
      "cell_type": "code",
      "execution_count": null,
      "metadata": {},
      "outputs": [],
      "source": [
        "# COLAB SPECIFIC CODE - Use this instead of UV commands above\n",
        "# Uncomment and run this in Colab:\n",
        "\n",
        "# # Check GPU\n",
        "# !nvidia-smi\n",
        "\n",
        "# # Mount Google Drive for persistent storage (optional)\n",
        "# from google.colab import drive\n",
        "# drive.mount('/content/drive')\n",
        "\n",
        "# # Clone repository\n",
        "# !git clone --recurse-submodules https://github.com/microsoft/TRELLIS.git\n",
        "# %cd TRELLIS\n",
        "\n",
        "# # Install PyTorch\n",
        "# !pip install torch==2.4.0 torchvision==0.19.0 --index-url https://download.pytorch.org/whl/cu118\n",
        "\n",
        "# # Install dependencies\n",
        "# !pip install pillow imageio imageio-ffmpeg tqdm easydict opencv-python-headless scipy ninja rembg onnxruntime trimesh open3d xatlas pyvista pymeshfix igraph transformers\n",
        "# !pip install git+https://github.com/EasternJournalist/utils3d.git@9a4eb15e4021b67b12c460c7057d642626897ec8\n",
        "\n",
        "# # Install Gradio\n",
        "# !pip install \"pydantic<2.10,>=2.0\" gradio==4.44.1 gradio_litmodel3d==0.0.1\n",
        "\n",
        "print(\"Colab adaptation code is commented out. Uncomment the lines above when running in Colab.\")\n"
      ]
    },
    {
      "cell_type": "raw",
      "metadata": {
        "vscode": {
          "languageId": "raw"
        }
      },
      "source": [
        "## 📝 Usage Notes\n",
        "\n",
        "### **Local Usage:**\n",
        "1. Run cells 1-6 to install dependencies\n",
        "2. Run cell 8 to load the TRELLIS pipeline  \n",
        "3. Run cells 10-11 to create the Gradio interface\n",
        "4. Run cell 13 to launch the web interface\n",
        "5. Or run cell 15 for a simple programmatic example\n",
        "\n",
        "### **Colab Usage:**\n",
        "1. Select GPU runtime (A100 recommended)\n",
        "2. Replace cells 2-6 with the Colab-specific code in cell 17\n",
        "3. Continue with cells 8+ as normal\n",
        "\n",
        "### **Memory Requirements:**\n",
        "- **Minimum**: 16GB GPU memory\n",
        "- **Recommended**: 32GB+ GPU memory for best performance\n",
        "- **Storage**: ~8GB for models and dependencies\n",
        "\n",
        "### **Expected Runtime:**\n",
        "- **Setup**: 5-10 minutes\n",
        "- **Model Loading**: 2-3 minutes  \n",
        "- **Generation**: 2-5 minutes per image (depending on settings)\n",
        "\n",
        "### **Troubleshooting:**\n",
        "- If you get OOM errors, try reducing texture_size and mesh_simplify values\n",
        "- If installation fails, try installing dependencies one by one\n",
        "- For Colab, ensure you have sufficient compute units remaining\n",
        "\n",
        "### **Output Files:**\n",
        "- **GLB**: 3D model compatible with most 3D software\n",
        "- **PLY**: Gaussian point cloud format\n",
        "- **MP4**: Preview videos of the generated 3D asset\n",
        "\n",
        "🎉 **Enjoy creating amazing 3D assets with TRELLIS!**\n"
      ]
    }
  ],
  "metadata": {
    "kernelspec": {
      "display_name": "trellis_env",
      "language": "python",
      "name": "python3"
    },
    "language_info": {
      "codemirror_mode": {
        "name": "ipython",
        "version": 3
      },
      "file_extension": ".py",
      "mimetype": "text/x-python",
      "name": "python",
      "nbconvert_exporter": "python",
      "pygments_lexer": "ipython3",
      "version": "3.10.17"
    }
  },
  "nbformat": 4,
  "nbformat_minor": 2
}
